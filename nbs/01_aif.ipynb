{
 "cells": [
  {
   "cell_type": "markdown",
   "id": "708b1896-9072-4c4a-a05d-e2dc5655a056",
   "metadata": {},
   "source": [
    "# AIF\n",
    "\n",
    "> AIF"
   ]
  },
  {
   "cell_type": "code",
   "execution_count": null,
   "id": "2386cdd2-cd55-459c-ba21-82fb8d775485",
   "metadata": {},
   "outputs": [],
   "source": [
    "#| default_exp aif"
   ]
  },
  {
   "cell_type": "code",
   "execution_count": null,
   "id": "e45822df-9086-488c-a9b0-371704bb28c6",
   "metadata": {},
   "outputs": [],
   "source": [
    "#| hide\n",
    "from nbdev.showdoc import *"
   ]
  },
  {
   "cell_type": "code",
   "execution_count": null,
   "id": "fa276217-a606-448b-9165-ced2080aa8b8",
   "metadata": {},
   "outputs": [],
   "source": [
    "#| hide\n"
   ]
  },
  {
   "cell_type": "code",
   "execution_count": null,
   "id": "bc9be797-f1bd-4fcc-852b-974fc38daf0b",
   "metadata": {},
   "outputs": [],
   "source": [
    "#| export\n",
    "import numpy as np\n",
    "from scipy import signal\n",
    "\n",
    "\n",
    "def find_delay(ref: np.ndarray,\n",
    "               test: np.ndarray\n",
    "              ) -> float:\n",
    "    correlation = signal.correlate(ref, test, mode='full')\n",
    "    lags = signal.correlation_lags(ref.size, test.size, mode='full')\n",
    "    lag = lags[np.argmax(correlation)]\n",
    "    return lag\n",
    "\n",
    "\n",
    "def fit_aif(dce: np.ndarray,\n",
    "            mask: np.ndarray\n",
    "           ) -> float:\n",
    "    tc = np.sum(dce, axis=(1, 2, 3), where=mask == True) / np.count_nonzero(mask)\n",
    "    solution = estimate_parkers_model(tc, dce.timeline / 60, return_result=True)\n",
    "    return solution.cost"
   ]
  }
 ],
 "metadata": {
  "kernelspec": {
   "display_name": "Python Imaging (3.10)",
   "language": "python",
   "name": "python-imaging-3.10"
  }
 },
 "nbformat": 4,
 "nbformat_minor": 5
}
