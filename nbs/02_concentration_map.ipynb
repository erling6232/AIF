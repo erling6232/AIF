{
 "cells": [
  {
   "cell_type": "markdown",
   "id": "950cc125-8bd5-48b8-b554-3bbfddd81af1",
   "metadata": {},
   "source": [
    "# Concentration map\n",
    "\n",
    "> Concentration map"
   ]
  },
  {
   "cell_type": "code",
   "execution_count": null,
   "id": "21923fd4-535f-44d9-b7ae-6592cc50bb7f",
   "metadata": {},
   "outputs": [],
   "source": [
    "#| default_exp concentration"
   ]
  },
  {
   "cell_type": "code",
   "execution_count": null,
   "id": "b8e1fb73-f6df-4aa5-bf6a-d2c1b43d423d",
   "metadata": {},
   "outputs": [],
   "source": [
    "#| hide\n",
    "from nbdev.showdoc import *"
   ]
  },
  {
   "cell_type": "code",
   "execution_count": null,
   "id": "ce9be817-8cfd-4ac2-afd2-dd8d2be2f237",
   "metadata": {},
   "outputs": [],
   "source": [
    "#| hide\n"
   ]
  },
  {
   "cell_type": "code",
   "execution_count": null,
   "id": "090acc1a-f119-4b74-a7dc-b7264b77f74f",
   "metadata": {},
   "outputs": [],
   "source": [
    "#| export\n",
    "# import os.path\n",
    "import numpy as np\n",
    "from imagedata.series import Series\n",
    "\n",
    "\n",
    "def relative_concentration_map(im: Series,\n",
    "                               baseline: int,\n",
    "                               k: float,\n",
    "                               option: str\n",
    "                              ) -> Series:\n",
    "    #print('This is {} computing {} signal concentration map'.format(\n",
    "    #    os.path.basename(__file__), option.upper())\n",
    "    #)\n",
    "\n",
    "    relim = np.zeros_like(im, dtype=np.float64)\n",
    "    im0 = np.mean(im[:baseline], axis=0)\n",
    "    for i in range(im.shape[0]):\n",
    "        if option.upper().strip() == 'ABS':\n",
    "            relim[i] = k * (im[i] - im0)\n",
    "        elif option.upper().strip() == 'REL':\n",
    "            relim[i] = k * (im[i] - im0) / im0\n",
    "    relim[relim < 0] = 0\n",
    "    return Series(relim, 'time', template=im, geometry=im)"
   ]
  },
  {
   "cell_type": "code",
   "execution_count": null,
   "id": "ac7f84ff-3788-416a-97ce-68a100b1477e",
   "metadata": {},
   "outputs": [],
   "source": []
  }
 ],
 "metadata": {
  "kernelspec": {
   "display_name": "Python Imaging (3.10)",
   "language": "python",
   "name": "python-imaging-3.10"
  }
 },
 "nbformat": 4,
 "nbformat_minor": 5
}
