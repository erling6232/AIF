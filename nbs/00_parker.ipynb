{
 "cells": [
  {
   "cell_type": "markdown",
   "metadata": {},
   "source": [
    "# Parker population AIF\n",
    "\n",
    "> Population AIF"
   ]
  },
  {
   "cell_type": "markdown",
   "metadata": {},
   "source": [
    "References:\n",
    "1. McGrath et al, Magnetic Resonance in Medicine 61:1173–1184 (2009)\n",
    "1. Parker et al, Magnetic Resonance in Medicine 56:993–1000 (2006)"
   ]
  },
  {
   "cell_type": "code",
   "execution_count": 1,
   "metadata": {},
   "outputs": [],
   "source": [
    "#| default_exp parker"
   ]
  },
  {
   "cell_type": "code",
   "execution_count": 2,
   "metadata": {},
   "outputs": [],
   "source": [
    "#| hide\n",
    "from nbdev.showdoc import *"
   ]
  },
  {
   "cell_type": "code",
   "execution_count": 3,
   "metadata": {},
   "outputs": [],
   "source": [
    "#| hide\n"
   ]
  },
  {
   "cell_type": "code",
   "execution_count": 4,
   "metadata": {},
   "outputs": [],
   "source": [
    "#| export\n",
    "from typing import Union\n",
    "import numpy as np\n",
    "from math import sqrt, pi\n",
    "import scipy.optimize as optimize\n",
    "\n",
    "\n",
    "def parker(x: tuple, # Parker parameters (A1, A2, T1, T2, sigma1, sigma2, alpha, beta, s, tau)\n",
    "           N: int, # Length of signal\n",
    "           t: np.ndarray # Timeline in seconds (length `N`)\n",
    "          ) -> np.ndarray: # Signal at timepoints `t`\n",
    "    \"\"\"Calculate a AIF signal, given the supplied parameters.\"\"\"\n",
    "    # print('parker: x {} '.format(x.shape))\n",
    "    A1, A2, T1, T2, sigma1, sigma2, alpha, beta, s, tau = x\n",
    "    # print(A1,A2,T1,T2,sigma1,sigma2,alpha,beta,s,tau)\n",
    "\n",
    "    term = np.zeros((3, N))\n",
    "    term[0] = A1 / sigma1 / sqrt(2 * pi) * np.exp(-((t - T1) ** 2) / 2 / (sigma1 ** 2))\n",
    "    term[1] = A2 / sigma2 / sqrt(2 * pi) * np.exp(-((t - T2) ** 2) / 2 / (sigma2 ** 2))\n",
    "    term[2] = alpha * np.exp(-beta * t) / (1 + np.exp(-s * (t - tau)))\n",
    "\n",
    "    # aif = np.sum(term, axis=0) * scaling\n",
    "    aif = np.sum(term, axis=0)\n",
    "    # return aif, term[0], term[1], alpha*np.exp(-beta*t), 1/(np.exp(-s*(t-tau)))\n",
    "    return aif\n",
    "\n",
    "\n",
    "def parker_cost_function(x: tuple, # Parker parameters  (A1, A2, T1, T2, sigma1, sigma2, alpha, beta, s, tau)\n",
    "                         t: np.ndarray, # Timeline in seconds\n",
    "                         y: np.ndarray # Measured data\n",
    "                        ) -> np.ndarray: # Difference\n",
    "    \"\"\"Calculate difference between parker function and given data `y`.\"\"\"\n",
    "    return parker(x, y.shape[0], t) - y\n",
    "\n",
    "\n",
    "def estimate_parkers_model(measured: np.ndarray, # Measured data\n",
    "                           timeline: np.ndarray, # Timeline in seconds\n",
    "                           return_result: bool = False, # When True, return OptimizeResult, otherwise return fitted parameters\n",
    "                           verbose: bool = True # Whether estimated parameters will be printed\n",
    "                          ) -> Union[optimize.OptimizeResult, np.ndarray]:\n",
    "    \"\"\"Estimate best Parker parameters for `measured` data.\"\"\"\n",
    "    # timeline in minutes\n",
    "    norm_factor = max(measured)\n",
    "    y = measured / norm_factor\n",
    "\n",
    "    A1 = 0.809\n",
    "    A2 = 0.33\n",
    "    T1 = 0.17046\n",
    "    T2 = 0.365\n",
    "    sigma1 = 0.0563\n",
    "    sigma2 = 0.132\n",
    "    alpha = 1.050\n",
    "    beta = 0.1685\n",
    "    s = 38.078\n",
    "    tau = 0.483\n",
    "\n",
    "    x0 = np.array((A1, A2, T1, T2, sigma1, sigma2, alpha, beta, s, tau))\n",
    "    lb = np.array((0, 0, 0.1, 0.2, 1e-9, 1e-9, 1e-3, 0, 0, 0))\n",
    "    ub = np.array((5, 5, 2, 2, 0.5, 0.7, 5.0, 1.17, 50, 1.5))\n",
    "    xs = np.array((1, 1, 1, 1, 20, 10, 1, 1, 0.05, 1))\n",
    "    result = optimize.least_squares(parker_cost_function, x0, bounds=(lb, ub), x_scale=xs,\n",
    "                                    args=(timeline, y), verbose=1, ftol=1e-3, xtol=1e-3, gtol=1e-3)\n",
    "    if verbose:\n",
    "        print('estimate_parkers_model: result.cost: {}'.format(result.cost))\n",
    "        print('estimate_parkers_model: A1    : {:6.3f} {:6.3f}'.format(x0[0], result.x[0]))\n",
    "        print('estimate_parkers_model: A2    : {:6.3f} {:6.3f}'.format(x0[1], result.x[1]))\n",
    "        print('estimate_parkers_model: T1    : {:6.3f} {:6.3f}'.format(x0[2], result.x[2]))\n",
    "        print('estimate_parkers_model: T2    : {:6.3f} {:6.3f}'.format(x0[3], result.x[3]))\n",
    "        print('estimate_parkers_model: sigma1: {:6.3f} {:6.3f}'.format(x0[4], result.x[4]))\n",
    "        print('estimate_parkers_model: sigma2: {:6.3f} {:6.3f}'.format(x0[5], result.x[5]))\n",
    "        print('estimate_parkers_model: alpha : {:6.3f} {:6.3f}'.format(x0[6], result.x[6]))\n",
    "        print('estimate_parkers_model: beta  : {:6.3f} {:6.3f}'.format(x0[7], result.x[7]))\n",
    "        print('estimate_parkers_model: s     : {:6.3f} {:6.3f}'.format(x0[8], result.x[8]))\n",
    "        print('estimate_parkers_model: tau   : {:6.3f} {:6.3f}'.format(x0[9], result.x[9]))\n",
    "    if return_result:\n",
    "        return result\n",
    "    else:\n",
    "        return result.x"
   ]
  },
  {
   "cell_type": "code",
   "execution_count": 5,
   "metadata": {},
   "outputs": [],
   "source": [
    "#| hide\n",
    "import nbdev; nbdev.nbdev_export()"
   ]
  },
  {
   "cell_type": "code",
   "execution_count": 6,
   "metadata": {},
   "outputs": [],
   "source": [
    "#| hide\n",
    "import matplotlib.pyplot as plt"
   ]
  },
  {
   "cell_type": "code",
   "execution_count": 7,
   "metadata": {},
   "outputs": [
    {
     "data": {
      "image/png": "[encoded data removed]",
      "text/plain": [
       "<Figure size 640x480 with 1 Axes>"
      ]
     },
     "metadata": {},
     "output_type": "display_data"
    }
   ],
   "source": [
    "x = (0.809, 0.33, 0.17046, 0.365, 0.0563, 0.132, 1.050, 0.1685, 38.078, 0.483)\n",
    "timeline = np.arange(0., 300., 2.5)\n",
    "p = parker(x, len(timeline), timeline)\n",
    "\n",
    "fig, ax = plt.subplots()\n",
    "ax.plot(timeline, p)\n",
    "ax.set_ylabel('Parker [a.u.]')\n",
    "ax.set_xlabel('Time [s]')\n",
    "plt.show()"
   ]
  },
  {
   "cell_type": "code",
   "execution_count": null,
   "metadata": {},
   "outputs": [],
   "source": []
  }
 ],
 "metadata": {
  "kernelspec": {
   "display_name": "Python Imaging (3.10)",
   "language": "python",
   "name": "python-imaging-3.10"
  },
  "language_info": {
   "codemirror_mode": {
    "name": "ipython",
    "version": 3
   },
   "file_extension": ".py",
   "mimetype": "text/x-python",
   "name": "python",
   "nbconvert_exporter": "python",
   "pygments_lexer": "ipython3",
   "version": "3.10.4"
  }
 },
 "nbformat": 4,
 "nbformat_minor": 4
}
